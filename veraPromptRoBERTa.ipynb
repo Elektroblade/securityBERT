{
 "cells": [
  {
   "cell_type": "code",
   "execution_count": 1,
   "id": "e13462dc",
   "metadata": {},
   "outputs": [],
   "source": [
    "from transformers import Trainer,get_linear_schedule_with_warmup,RobertaTokenizer,BertForSequenceClassification,BitsAndBytesConfig\n",
    "import torch\n",
    "import torch.nn as nn\n",
    "from torch.utils.data import Dataset,DataLoader\n",
    "import torch.nn.functional as F\n",
    "import warnings\n",
    "warnings.filterwarnings('ignore')\n",
    "from tqdm.notebook import tqdm\n",
    "import psutil\n",
    "from sklearn.model_selection import train_test_split\n",
    "from peft import prepare_model_for_kbit_training\n",
    "from peft import get_peft_model\n",
    "import time\n",
    "from collections import defaultdict"
   ]
  },
  {
   "cell_type": "code",
   "execution_count": 2,
   "id": "41e004ba",
   "metadata": {},
   "outputs": [],
   "source": [
    "def print_trainable_parameters(model):\n",
    "    trainable = sum(p.numel() for p in model.parameters() if p.requires_grad)\n",
    "    total = sum(p.numel() for p in model.parameters())\n",
    "    print(f\"Trainable parameters: {trainable:,}\")\n",
    "    print(f\"Total parameters: {total:,}\")\n",
    "    print(f\"Percentage of trainable params: {100 * trainable / total:.2f}%\")"
   ]
  },
  {
   "cell_type": "markdown",
   "id": "433a80d5",
   "metadata": {},
   "source": [
    "## Custom RoBERTa class needs work"
   ]
  },
  {
   "cell_type": "code",
   "execution_count": 3,
   "id": "f1b8a2a8",
   "metadata": {},
   "outputs": [],
   "source": [
    "import torch\n",
    "import torch.nn as nn\n",
    "from transformers import RobertaForSequenceClassification\n",
    "\n",
    "class RobertaForSequenceClassificationWithCustomHead(RobertaForSequenceClassification):\n",
    "    def __init__(self, config):\n",
    "        super().__init__(config)\n",
    "        # Add a new custom layer, e.g., a small MLP after the original classifier\n",
    "        self.custom_layer = nn.Sequential(\n",
    "            nn.Linear(config.num_labels, 64),\n",
    "            nn.ReLU(),\n",
    "            nn.Linear(64, config.num_labels)\n",
    "        )\n",
    "    \n",
    "    def forward(self, input_ids=None, attention_mask=None, labels=None, **kwargs):\n",
    "\n",
    "        # Remove any unexpected keys that RobertaForSequenceClassification won't accept\n",
    "        accepted_keys = {\"input_ids\", \"attention_mask\", \"labels\", \"token_type_ids\", \"position_ids\", \"head_mask\", \"inputs_embeds\", \"output_attentions\", \"output_hidden_states\", \"return_dict\"}\n",
    "        filtered_kwargs = {k: v for k, v in kwargs.items() if k in accepted_keys}\n",
    "\n",
    "        # Safe call to parent forward\n",
    "        outputs = super().forward(\n",
    "            input_ids=input_ids,\n",
    "            attention_mask=attention_mask,\n",
    "            labels=labels,\n",
    "            **filtered_kwargs\n",
    "        )\n",
    "\n",
    "        logits = outputs.logits\n",
    "        custom_logits = self.custom_layer(logits)\n",
    "\n",
    "        loss = None\n",
    "        if labels is not None:\n",
    "            loss_fct = nn.CrossEntropyLoss()\n",
    "            loss = loss_fct(custom_logits, labels)\n",
    "\n",
    "        return type(outputs)(\n",
    "            loss=loss,\n",
    "            logits=custom_logits,\n",
    "            hidden_states=outputs.hidden_states,\n",
    "            attentions=outputs.attentions,\n",
    "        )\n"
   ]
  },
  {
   "cell_type": "code",
   "execution_count": 4,
   "id": "2b4f4d3e",
   "metadata": {},
   "outputs": [
    {
     "name": "stderr",
     "output_type": "stream",
     "text": [
      "Some weights of RobertaForSequenceClassificationWithCustomHead were not initialized from the model checkpoint at roberta-base and are newly initialized: ['classifier.dense.bias', 'classifier.dense.weight', 'classifier.out_proj.bias', 'classifier.out_proj.weight', 'custom_layer.0.bias', 'custom_layer.0.weight', 'custom_layer.2.bias', 'custom_layer.2.weight']\n",
      "You should probably TRAIN this model on a down-stream task to be able to use it for predictions and inference.\n"
     ]
    },
    {
     "name": "stdout",
     "output_type": "stream",
     "text": [
      "RobertaConfig {\n",
      "  \"architectures\": [\n",
      "    \"RobertaForMaskedLM\"\n",
      "  ],\n",
      "  \"attention_probs_dropout_prob\": 0.1,\n",
      "  \"bos_token_id\": 0,\n",
      "  \"classifier_dropout\": null,\n",
      "  \"eos_token_id\": 2,\n",
      "  \"hidden_act\": \"gelu\",\n",
      "  \"hidden_dropout_prob\": 0.1,\n",
      "  \"hidden_size\": 768,\n",
      "  \"id2label\": {\n",
      "    \"0\": \"LABEL_0\",\n",
      "    \"1\": \"LABEL_1\",\n",
      "    \"2\": \"LABEL_2\",\n",
      "    \"3\": \"LABEL_3\",\n",
      "    \"4\": \"LABEL_4\",\n",
      "    \"5\": \"LABEL_5\",\n",
      "    \"6\": \"LABEL_6\",\n",
      "    \"7\": \"LABEL_7\",\n",
      "    \"8\": \"LABEL_8\",\n",
      "    \"9\": \"LABEL_9\",\n",
      "    \"10\": \"LABEL_10\",\n",
      "    \"11\": \"LABEL_11\",\n",
      "    \"12\": \"LABEL_12\",\n",
      "    \"13\": \"LABEL_13\",\n",
      "    \"14\": \"LABEL_14\"\n",
      "  },\n",
      "  \"initializer_range\": 0.02,\n",
      "  \"intermediate_size\": 3072,\n",
      "  \"label2id\": {\n",
      "    \"LABEL_0\": 0,\n",
      "    \"LABEL_1\": 1,\n",
      "    \"LABEL_10\": 10,\n",
      "    \"LABEL_11\": 11,\n",
      "    \"LABEL_12\": 12,\n",
      "    \"LABEL_13\": 13,\n",
      "    \"LABEL_14\": 14,\n",
      "    \"LABEL_2\": 2,\n",
      "    \"LABEL_3\": 3,\n",
      "    \"LABEL_4\": 4,\n",
      "    \"LABEL_5\": 5,\n",
      "    \"LABEL_6\": 6,\n",
      "    \"LABEL_7\": 7,\n",
      "    \"LABEL_8\": 8,\n",
      "    \"LABEL_9\": 9\n",
      "  },\n",
      "  \"layer_norm_eps\": 1e-05,\n",
      "  \"max_position_embeddings\": 514,\n",
      "  \"model_type\": \"roberta\",\n",
      "  \"num_attention_heads\": 12,\n",
      "  \"num_hidden_layers\": 12,\n",
      "  \"pad_token_id\": 1,\n",
      "  \"position_embedding_type\": \"absolute\",\n",
      "  \"torch_dtype\": \"float32\",\n",
      "  \"transformers_version\": \"4.53.0.dev0\",\n",
      "  \"type_vocab_size\": 1,\n",
      "  \"use_cache\": true,\n",
      "  \"vocab_size\": 50265\n",
      "}\n",
      "\n",
      "Trainable parameters: 124,659,166\n",
      "Total parameters: 124,659,166\n",
      "Percentage of trainable params: 100.00%\n",
      "Number of available GPUs: 1\n",
      "GPU Name: NVIDIA GeForce RTX 3080\n"
     ]
    }
   ],
   "source": [
    "from transformers import RobertaTokenizerFast\n",
    "from transformers import RobertaForSequenceClassification\n",
    "\n",
    "model = RobertaForSequenceClassificationWithCustomHead.from_pretrained(\"roberta-base\", num_labels=15)\n",
    "print(model.config)\n",
    "print_trainable_parameters(model)\n",
    "device = torch.device(\"cuda\" if torch.cuda.is_available() else 'cpu')\n",
    "print(f\"Number of available GPUs: {torch.cuda.device_count()}\")\n",
    "if torch.cuda.is_available():\n",
    "    print(\"GPU Name:\", torch.cuda.get_device_name(0))\n",
    "else:\n",
    "    print(\"No GPU available.\")\n",
    "device\n",
    "\n",
    "# Pretrained RoBERTa tokenizer (e.g. roberta-base)\n",
    "pretrained_tokenizer = RobertaTokenizerFast.from_pretrained(\"roberta-base\")\n",
    "\n",
    "# Your custom tokenizer trained on OOL tokens\n",
    "custom_tokenizer = RobertaTokenizerFast.from_pretrained('./tokenizer') # Try to remove Fast?"
   ]
  },
  {
   "cell_type": "code",
   "execution_count": 5,
   "id": "d8ab2c08",
   "metadata": {},
   "outputs": [
    {
     "name": "stdout",
     "output_type": "stream",
     "text": [
      "Found 28604 new tokens to add.\n"
     ]
    }
   ],
   "source": [
    "pretrained_vocab = set(pretrained_tokenizer.get_vocab().keys())\n",
    "custom_vocab = set(custom_tokenizer.get_vocab().keys())\n",
    "\n",
    "# Identify tokens present in custom but not in pretrained\n",
    "new_tokens = list(custom_vocab - pretrained_vocab)\n",
    "\n",
    "print(f\"Found {len(new_tokens)} new tokens to add.\")"
   ]
  },
  {
   "cell_type": "code",
   "execution_count": 6,
   "id": "5a46cfd0",
   "metadata": {},
   "outputs": [
    {
     "name": "stdout",
     "output_type": "stream",
     "text": [
      "Successfully added 28604 new tokens.\n"
     ]
    }
   ],
   "source": [
    "# Add new tokens to the pretrained tokenizer\n",
    "num_added = pretrained_tokenizer.add_tokens(new_tokens)\n",
    "print(f\"Successfully added {num_added} new tokens.\")"
   ]
  },
  {
   "cell_type": "code",
   "execution_count": 7,
   "id": "177c29cb",
   "metadata": {},
   "outputs": [
    {
     "name": "stderr",
     "output_type": "stream",
     "text": [
      "The new embeddings will be initialized from a multivariate normal distribution that has old embeddings' mean and covariance. As described in this article: https://nlp.stanford.edu/~johnhew/vocab-expansion.html. To disable this, use `mean_resizing=False`\n"
     ]
    },
    {
     "data": {
      "text/plain": [
       "Embedding(78869, 768, padding_idx=1)"
      ]
     },
     "execution_count": 7,
     "metadata": {},
     "output_type": "execute_result"
    }
   ],
   "source": [
    "model.resize_token_embeddings(len(pretrained_tokenizer))"
   ]
  },
  {
   "cell_type": "code",
   "execution_count": 8,
   "id": "96ed77f3",
   "metadata": {},
   "outputs": [
    {
     "name": "stdout",
     "output_type": "stream",
     "text": [
      "Trainable parameters: 749,583\n",
      "Total parameters: 147,376,621\n",
      "Percentage of trainable params: 0.51%\n"
     ]
    },
    {
     "data": {
      "text/plain": [
       "PeftModelForSequenceClassification(\n",
       "  (base_model): LoraModel(\n",
       "    (model): RobertaForSequenceClassificationWithCustomHead(\n",
       "      (roberta): RobertaModel(\n",
       "        (embeddings): RobertaEmbeddings(\n",
       "          (word_embeddings): Embedding(78869, 768, padding_idx=1)\n",
       "          (position_embeddings): Embedding(514, 768, padding_idx=1)\n",
       "          (token_type_embeddings): Embedding(1, 768)\n",
       "          (LayerNorm): LayerNorm((768,), eps=1e-05, elementwise_affine=True)\n",
       "          (dropout): Dropout(p=0.1, inplace=False)\n",
       "        )\n",
       "        (encoder): RobertaEncoder(\n",
       "          (layer): ModuleList(\n",
       "            (0-11): 12 x RobertaLayer(\n",
       "              (attention): RobertaAttention(\n",
       "                (self): RobertaSdpaSelfAttention(\n",
       "                  (query): lora.Linear(\n",
       "                    (base_layer): Linear(in_features=768, out_features=768, bias=True)\n",
       "                    (lora_dropout): ModuleDict(\n",
       "                      (default): Dropout(p=0.1, inplace=False)\n",
       "                    )\n",
       "                    (lora_A): ModuleDict(\n",
       "                      (default): Linear(in_features=768, out_features=4, bias=False)\n",
       "                    )\n",
       "                    (lora_B): ModuleDict(\n",
       "                      (default): Linear(in_features=4, out_features=768, bias=False)\n",
       "                    )\n",
       "                    (lora_embedding_A): ParameterDict()\n",
       "                    (lora_embedding_B): ParameterDict()\n",
       "                    (lora_magnitude_vector): ModuleDict()\n",
       "                  )\n",
       "                  (key): Linear(in_features=768, out_features=768, bias=True)\n",
       "                  (value): lora.Linear(\n",
       "                    (base_layer): Linear(in_features=768, out_features=768, bias=True)\n",
       "                    (lora_dropout): ModuleDict(\n",
       "                      (default): Dropout(p=0.1, inplace=False)\n",
       "                    )\n",
       "                    (lora_A): ModuleDict(\n",
       "                      (default): Linear(in_features=768, out_features=4, bias=False)\n",
       "                    )\n",
       "                    (lora_B): ModuleDict(\n",
       "                      (default): Linear(in_features=4, out_features=768, bias=False)\n",
       "                    )\n",
       "                    (lora_embedding_A): ParameterDict()\n",
       "                    (lora_embedding_B): ParameterDict()\n",
       "                    (lora_magnitude_vector): ModuleDict()\n",
       "                  )\n",
       "                  (dropout): Dropout(p=0.1, inplace=False)\n",
       "                )\n",
       "                (output): RobertaSelfOutput(\n",
       "                  (dense): Linear(in_features=768, out_features=768, bias=True)\n",
       "                  (LayerNorm): LayerNorm((768,), eps=1e-05, elementwise_affine=True)\n",
       "                  (dropout): Dropout(p=0.1, inplace=False)\n",
       "                )\n",
       "              )\n",
       "              (intermediate): RobertaIntermediate(\n",
       "                (dense): Linear(in_features=768, out_features=3072, bias=True)\n",
       "                (intermediate_act_fn): GELUActivation()\n",
       "              )\n",
       "              (output): RobertaOutput(\n",
       "                (dense): Linear(in_features=3072, out_features=768, bias=True)\n",
       "                (LayerNorm): LayerNorm((768,), eps=1e-05, elementwise_affine=True)\n",
       "                (dropout): Dropout(p=0.1, inplace=False)\n",
       "              )\n",
       "            )\n",
       "          )\n",
       "        )\n",
       "      )\n",
       "      (classifier): ModulesToSaveWrapper(\n",
       "        (original_module): RobertaClassificationHead(\n",
       "          (dense): Linear(in_features=768, out_features=768, bias=True)\n",
       "          (dropout): Dropout(p=0.1, inplace=False)\n",
       "          (out_proj): Linear(in_features=768, out_features=15, bias=True)\n",
       "        )\n",
       "        (modules_to_save): ModuleDict(\n",
       "          (default): RobertaClassificationHead(\n",
       "            (dense): Linear(in_features=768, out_features=768, bias=True)\n",
       "            (dropout): Dropout(p=0.1, inplace=False)\n",
       "            (out_proj): Linear(in_features=768, out_features=15, bias=True)\n",
       "          )\n",
       "        )\n",
       "      )\n",
       "      (custom_layer): Sequential(\n",
       "        (0): Linear(in_features=15, out_features=64, bias=True)\n",
       "        (1): ReLU()\n",
       "        (2): Linear(in_features=64, out_features=15, bias=True)\n",
       "      )\n",
       "    )\n",
       "  )\n",
       ")"
      ]
     },
     "execution_count": 8,
     "metadata": {},
     "output_type": "execute_result"
    }
   ],
   "source": [
    "from peft import get_peft_model, LoraConfig, TaskType\n",
    "\n",
    "config = LoraConfig(\n",
    "    task_type=TaskType.SEQ_CLS,     # or SEQ_2_SEQ_LM, TOKEN_CLS, etc.\n",
    "    r=4,\n",
    "    lora_alpha=16,\n",
    "    lora_dropout=0.1,\n",
    "    target_modules=[\"query\", \"value\"],  # Adjust for RoBERTa\n",
    ")\n",
    "\n",
    "model = get_peft_model(model, config)\n",
    "print_trainable_parameters(model)\n",
    "model.to(device)"
   ]
  },
  {
   "cell_type": "code",
   "execution_count": 9,
   "id": "f4c03425",
   "metadata": {},
   "outputs": [],
   "source": [
    "from datasets import load_dataset\n",
    "import pandas as pd\n",
    "import seaborn as sns\n",
    "from sklearn.preprocessing import LabelEncoder\n",
    "\n",
    "data = pd.read_pickle('./saved_data/encoded_data.pck')\n",
    "le = LabelEncoder()\n",
    "data['target'] = le.fit_transform(data['Attack_type'])"
   ]
  },
  {
   "cell_type": "code",
   "execution_count": 10,
   "id": "b9b43492",
   "metadata": {},
   "outputs": [],
   "source": [
    "with open(\"prompt_encoded_data.txt\",\"w\") as f:\n",
    "    for _, row in data.iterrows():\n",
    "        f.write(f\"You are an expert in network traffic classification. Based on the provided network traffic attributes, you must determine whether the traffic is \" +\n",
    "                f\"'Backdoor', 'DDoS_HTTP', 'DDoS_ICMP', 'DDoS_TCP', 'DDoS_UDP', 'Fingerprinting', 'MITM', 'Normal', 'Password', 'Port_Scanning', 'Ransomware', 'SQL_injection', 'Uploading', \" + \n",
    "                f\"'Vulnerability_scanner', or 'XSS'. Here are the encoded attributes, 'encoded_PPFLE: {row['encoded_PPFLE']}'. \" + '\\n')\n",
    "#'<s>','<pad>','</s>','<unk>','<mask>'"
   ]
  },
  {
   "cell_type": "code",
   "execution_count": 11,
   "id": "b2841cad",
   "metadata": {},
   "outputs": [
    {
     "data": {
      "text/html": [
       "<div>\n",
       "<style scoped>\n",
       "    .dataframe tbody tr th:only-of-type {\n",
       "        vertical-align: middle;\n",
       "    }\n",
       "\n",
       "    .dataframe tbody tr th {\n",
       "        vertical-align: top;\n",
       "    }\n",
       "\n",
       "    .dataframe thead th {\n",
       "        text-align: right;\n",
       "    }\n",
       "</style>\n",
       "<table border=\"1\" class=\"dataframe\">\n",
       "  <thead>\n",
       "    <tr style=\"text-align: right;\">\n",
       "      <th></th>\n",
       "      <th>encoded_PPFLE_prompt</th>\n",
       "      <th>Attack_type</th>\n",
       "      <th>Attack_label</th>\n",
       "      <th>target</th>\n",
       "    </tr>\n",
       "  </thead>\n",
       "  <tbody>\n",
       "    <tr>\n",
       "      <th>85834</th>\n",
       "      <td>You are an expert in network traffic classific...</td>\n",
       "      <td>Backdoor</td>\n",
       "      <td>1</td>\n",
       "      <td>0</td>\n",
       "    </tr>\n",
       "    <tr>\n",
       "      <th>13069</th>\n",
       "      <td>You are an expert in network traffic classific...</td>\n",
       "      <td>Ransomware</td>\n",
       "      <td>1</td>\n",
       "      <td>10</td>\n",
       "    </tr>\n",
       "    <tr>\n",
       "      <th>108098</th>\n",
       "      <td>You are an expert in network traffic classific...</td>\n",
       "      <td>Normal</td>\n",
       "      <td>0</td>\n",
       "      <td>7</td>\n",
       "    </tr>\n",
       "    <tr>\n",
       "      <th>59604</th>\n",
       "      <td>You are an expert in network traffic classific...</td>\n",
       "      <td>Password</td>\n",
       "      <td>1</td>\n",
       "      <td>8</td>\n",
       "    </tr>\n",
       "    <tr>\n",
       "      <th>88256</th>\n",
       "      <td>You are an expert in network traffic classific...</td>\n",
       "      <td>Backdoor</td>\n",
       "      <td>1</td>\n",
       "      <td>0</td>\n",
       "    </tr>\n",
       "    <tr>\n",
       "      <th>47250</th>\n",
       "      <td>You are an expert in network traffic classific...</td>\n",
       "      <td>DDoS_TCP</td>\n",
       "      <td>1</td>\n",
       "      <td>3</td>\n",
       "    </tr>\n",
       "    <tr>\n",
       "      <th>94950</th>\n",
       "      <td>You are an expert in network traffic classific...</td>\n",
       "      <td>XSS</td>\n",
       "      <td>1</td>\n",
       "      <td>14</td>\n",
       "    </tr>\n",
       "    <tr>\n",
       "      <th>138385</th>\n",
       "      <td>You are an expert in network traffic classific...</td>\n",
       "      <td>DDoS_UDP</td>\n",
       "      <td>1</td>\n",
       "      <td>4</td>\n",
       "    </tr>\n",
       "    <tr>\n",
       "      <th>110037</th>\n",
       "      <td>You are an expert in network traffic classific...</td>\n",
       "      <td>Normal</td>\n",
       "      <td>0</td>\n",
       "      <td>7</td>\n",
       "    </tr>\n",
       "    <tr>\n",
       "      <th>46888</th>\n",
       "      <td>You are an expert in network traffic classific...</td>\n",
       "      <td>DDoS_TCP</td>\n",
       "      <td>1</td>\n",
       "      <td>3</td>\n",
       "    </tr>\n",
       "    <tr>\n",
       "      <th>24994</th>\n",
       "      <td>You are an expert in network traffic classific...</td>\n",
       "      <td>SQL_injection</td>\n",
       "      <td>1</td>\n",
       "      <td>11</td>\n",
       "    </tr>\n",
       "    <tr>\n",
       "      <th>100674</th>\n",
       "      <td>You are an expert in network traffic classific...</td>\n",
       "      <td>XSS</td>\n",
       "      <td>1</td>\n",
       "      <td>14</td>\n",
       "    </tr>\n",
       "    <tr>\n",
       "      <th>27775</th>\n",
       "      <td>You are an expert in network traffic classific...</td>\n",
       "      <td>SQL_injection</td>\n",
       "      <td>1</td>\n",
       "      <td>11</td>\n",
       "    </tr>\n",
       "    <tr>\n",
       "      <th>124867</th>\n",
       "      <td>You are an expert in network traffic classific...</td>\n",
       "      <td>Normal</td>\n",
       "      <td>0</td>\n",
       "      <td>7</td>\n",
       "    </tr>\n",
       "    <tr>\n",
       "      <th>73218</th>\n",
       "      <td>You are an expert in network traffic classific...</td>\n",
       "      <td>Port_Scanning</td>\n",
       "      <td>1</td>\n",
       "      <td>9</td>\n",
       "    </tr>\n",
       "  </tbody>\n",
       "</table>\n",
       "</div>"
      ],
      "text/plain": [
       "                                     encoded_PPFLE_prompt    Attack_type  \\\n",
       "85834   You are an expert in network traffic classific...       Backdoor   \n",
       "13069   You are an expert in network traffic classific...     Ransomware   \n",
       "108098  You are an expert in network traffic classific...         Normal   \n",
       "59604   You are an expert in network traffic classific...       Password   \n",
       "88256   You are an expert in network traffic classific...       Backdoor   \n",
       "47250   You are an expert in network traffic classific...       DDoS_TCP   \n",
       "94950   You are an expert in network traffic classific...            XSS   \n",
       "138385  You are an expert in network traffic classific...       DDoS_UDP   \n",
       "110037  You are an expert in network traffic classific...         Normal   \n",
       "46888   You are an expert in network traffic classific...       DDoS_TCP   \n",
       "24994   You are an expert in network traffic classific...  SQL_injection   \n",
       "100674  You are an expert in network traffic classific...            XSS   \n",
       "27775   You are an expert in network traffic classific...  SQL_injection   \n",
       "124867  You are an expert in network traffic classific...         Normal   \n",
       "73218   You are an expert in network traffic classific...  Port_Scanning   \n",
       "\n",
       "        Attack_label  target  \n",
       "85834              1       0  \n",
       "13069              1      10  \n",
       "108098             0       7  \n",
       "59604              1       8  \n",
       "88256              1       0  \n",
       "47250              1       3  \n",
       "94950              1      14  \n",
       "138385             1       4  \n",
       "110037             0       7  \n",
       "46888              1       3  \n",
       "24994              1      11  \n",
       "100674             1      14  \n",
       "27775              1      11  \n",
       "124867             0       7  \n",
       "73218              1       9  "
      ]
     },
     "execution_count": 11,
     "metadata": {},
     "output_type": "execute_result"
    }
   ],
   "source": [
    "with open(\"prompt_encoded_data.txt\", \"r\") as f:\n",
    "    prompt_lines = f.readlines()\n",
    "\n",
    "# Strip newline characters\n",
    "prompt_lines = [prompt_line.strip() for prompt_line in prompt_lines]\n",
    "prompt_data = {\n",
    "    \"encoded_PPFLE_prompt\": prompt_lines, 'Attack_type': data['Attack_type'], 'Attack_label': data['Attack_label'], 'target': data['target']\n",
    "}\n",
    "prompt_df = pd.DataFrame(prompt_data)\n",
    "prompt_df.sample(15)"
   ]
  },
  {
   "cell_type": "code",
   "execution_count": 12,
   "id": "7ccdbe25",
   "metadata": {},
   "outputs": [
    {
     "name": "stdout",
     "output_type": "stream",
     "text": [
      "(110460, 4) (23670, 4) (23670, 4)\n"
     ]
    }
   ],
   "source": [
    "train_set = prompt_df.sample(frac=0.7,random_state=42).reset_index(drop=True)\n",
    "\n",
    "remaining = prompt_df.drop(train_set.index).reset_index(drop=True)\n",
    "\n",
    "test_set = remaining.sample(frac=0.5,random_state=42).reset_index(drop=True)\n",
    "\n",
    "val_set = remaining.drop(test_set.index).reset_index(drop=True)\n",
    "\n",
    "print(train_set.shape,val_set.shape,test_set.shape)"
   ]
  },
  {
   "cell_type": "code",
   "execution_count": 13,
   "id": "59a459bb",
   "metadata": {},
   "outputs": [],
   "source": [
    "train_ratio = 0.7\n",
    "val_ratio = 0.15\n",
    "test_ratio = 0.15\n",
    "\n",
    "train_set, test_set = train_test_split(prompt_df, test_size=test_ratio,stratify=prompt_df.iloc[:,-1], random_state=42)\n",
    "train_set, val_set = train_test_split(train_set, test_size=val_ratio/(val_ratio+train_ratio),stratify=train_set.iloc[:,-1], random_state=42)"
   ]
  },
  {
   "cell_type": "code",
   "execution_count": 14,
   "id": "07865133",
   "metadata": {},
   "outputs": [
    {
     "data": {
      "text/plain": [
       "((110460, 4), (23670, 4), (23670, 4))"
      ]
     },
     "execution_count": 14,
     "metadata": {},
     "output_type": "execute_result"
    }
   ],
   "source": [
    "train_set.shape,val_set.shape,test_set.shape"
   ]
  },
  {
   "cell_type": "code",
   "execution_count": 15,
   "id": "184962cc",
   "metadata": {},
   "outputs": [],
   "source": [
    "TARGET_LIST = ['Backdoor', 'DDoS_HTTP', 'DDoS_ICMP', 'DDoS_TCP', 'DDoS_UDP',\n",
    "                'Fingerprinting', 'MITM', 'Normal', 'Password', 'Port_Scanning',\n",
    "                'Ransomware', 'SQL_injection', 'Uploading', 'Vulnerability_scanner',\n",
    "                'XSS']"
   ]
  },
  {
   "cell_type": "code",
   "execution_count": 16,
   "id": "413fc530",
   "metadata": {},
   "outputs": [
    {
     "data": {
      "text/html": [
       "<div>\n",
       "<style scoped>\n",
       "    .dataframe tbody tr th:only-of-type {\n",
       "        vertical-align: middle;\n",
       "    }\n",
       "\n",
       "    .dataframe tbody tr th {\n",
       "        vertical-align: top;\n",
       "    }\n",
       "\n",
       "    .dataframe thead th {\n",
       "        text-align: right;\n",
       "    }\n",
       "</style>\n",
       "<table border=\"1\" class=\"dataframe\">\n",
       "  <thead>\n",
       "    <tr style=\"text-align: right;\">\n",
       "      <th></th>\n",
       "      <th>encoded_PPFLE_prompt</th>\n",
       "      <th>Attack_type</th>\n",
       "      <th>Attack_label</th>\n",
       "      <th>target</th>\n",
       "    </tr>\n",
       "  </thead>\n",
       "  <tbody>\n",
       "    <tr>\n",
       "      <th>13140</th>\n",
       "      <td>You are an expert in network traffic classific...</td>\n",
       "      <td>Uploading</td>\n",
       "      <td>1</td>\n",
       "      <td>12</td>\n",
       "    </tr>\n",
       "    <tr>\n",
       "      <th>13141</th>\n",
       "      <td>You are an expert in network traffic classific...</td>\n",
       "      <td>Uploading</td>\n",
       "      <td>1</td>\n",
       "      <td>12</td>\n",
       "    </tr>\n",
       "    <tr>\n",
       "      <th>13142</th>\n",
       "      <td>You are an expert in network traffic classific...</td>\n",
       "      <td>Uploading</td>\n",
       "      <td>1</td>\n",
       "      <td>12</td>\n",
       "    </tr>\n",
       "    <tr>\n",
       "      <th>13143</th>\n",
       "      <td>You are an expert in network traffic classific...</td>\n",
       "      <td>Uploading</td>\n",
       "      <td>1</td>\n",
       "      <td>12</td>\n",
       "    </tr>\n",
       "    <tr>\n",
       "      <th>13144</th>\n",
       "      <td>You are an expert in network traffic classific...</td>\n",
       "      <td>Uploading</td>\n",
       "      <td>1</td>\n",
       "      <td>12</td>\n",
       "    </tr>\n",
       "  </tbody>\n",
       "</table>\n",
       "</div>"
      ],
      "text/plain": [
       "                                    encoded_PPFLE_prompt Attack_type  \\\n",
       "13140  You are an expert in network traffic classific...   Uploading   \n",
       "13141  You are an expert in network traffic classific...   Uploading   \n",
       "13142  You are an expert in network traffic classific...   Uploading   \n",
       "13143  You are an expert in network traffic classific...   Uploading   \n",
       "13144  You are an expert in network traffic classific...   Uploading   \n",
       "\n",
       "       Attack_label  target  \n",
       "13140             1      12  \n",
       "13141             1      12  \n",
       "13142             1      12  \n",
       "13143             1      12  \n",
       "13144             1      12  "
      ]
     },
     "execution_count": 16,
     "metadata": {},
     "output_type": "execute_result"
    }
   ],
   "source": [
    "prompt_df[prompt_df['Attack_type']=='Uploading'].head(5)"
   ]
  },
  {
   "cell_type": "markdown",
   "id": "764b0006",
   "metadata": {},
   "source": [
    "class CustomDataset(Dataset):\n",
    "  def __init__(self,encodings,df,max_len):\n",
    "    self.encodings = encodings\n",
    "    self.df = df\n",
    "    self.max_len=max_len\n",
    "    self.targets = self.df['target'].tolist()\n",
    "\n",
    "  def __len__(self):\n",
    "    return len(self.df)\n",
    "\n",
    "  def __getitem__(self,idx):\n",
    "    target = self.targets[idx]\n",
    "    encoding = self.encodings[idx]\n",
    "\n",
    "    return {\n",
    "        'input_ids':encoding['input_ids'].flatten(),\n",
    "        'attention_mask':encoding['attention_mask'].flatten(),\n",
    "        'targets':torch.tensor(target,dtype=torch.long)\n",
    "    }"
   ]
  },
  {
   "cell_type": "markdown",
   "id": "bc04197c",
   "metadata": {},
   "source": [
    "from datasets import load_dataset, Dataset\n",
    "from transformers import RobertaTokenizerFast\n",
    "import torch\n",
    "\n",
    "# Load tokenizer and dataset\n",
    "tokenizer = RobertaTokenizerFast.from_pretrained(\"roberta-base\")\n",
    "\n",
    "# Define tokenization function\n",
    "def tokenize_function(row):\n",
    "    return tokenizer(\n",
    "        row[\"encoded_PPFLE_prompt\"],               # replace with your actual column\n",
    "        padding=\"max_length\",\n",
    "        truncation=True,\n",
    "        max_length=512,\n",
    "        return_tensors='pt'\n",
    "    )\n",
    "\n",
    "# Tokenize entire dataset\n",
    "train_set_enc = (Dataset.from_pandas(train_set)).map(tokenize_function, batched=True)\n",
    "val_set_enc = (Dataset.from_pandas(val_set)).map(tokenize_function, batched=True)\n",
    "test_set_enc = (Dataset.from_pandas(test_set)).map(tokenize_function, batched=True)\n",
    "\n",
    "# Save to disk (recommended)\n",
    "train_set_enc.save_to_disk('vera_prompt_roberta_train_encodings.pt')\n",
    "val_set_enc.save_to_disk('vera_prompt_roberta_val_encodings.pt')\n",
    "test_set_enc.save_to_disk('vera_prompt_roberta_test_encodings.pt')"
   ]
  },
  {
   "cell_type": "code",
   "execution_count": 17,
   "id": "09c34ac9",
   "metadata": {},
   "outputs": [
    {
     "name": "stdout",
     "output_type": "stream",
     "text": [
      "110460\n",
      "23670\n",
      "23670\n"
     ]
    }
   ],
   "source": [
    "from datasets import load_dataset, Dataset\n",
    "from datasets import load_from_disk\n",
    "\n",
    "train_set_enc = load_from_disk('vera_prompt_roberta_train_encodings.pt')\n",
    "print(len(train_set_enc))\n",
    "val_set_enc = load_from_disk('vera_prompt_roberta_val_encodings.pt')\n",
    "print(len(val_set_enc))\n",
    "test_set_enc = load_from_disk('vera_prompt_roberta_test_encodings.pt')\n",
    "print(len(test_set_enc))"
   ]
  },
  {
   "cell_type": "code",
   "execution_count": 18,
   "id": "9617f85f",
   "metadata": {},
   "outputs": [],
   "source": [
    "def set_dataset_format(dataset):\n",
    "    dataset = dataset.rename_column('target', \"labels\")\n",
    "    dataset.set_format(\n",
    "        type=\"torch\",\n",
    "        columns=[\"input_ids\", \"attention_mask\", \"labels\"]  # include \"labels\" column\n",
    "    )\n",
    "    return dataset\n",
    "\n",
    "train_dataset = set_dataset_format(train_set_enc)\n",
    "val_dataset = set_dataset_format(val_set_enc)\n",
    "test_dataset = set_dataset_format(test_set_enc)"
   ]
  },
  {
   "cell_type": "code",
   "execution_count": 19,
   "id": "d5dd4492",
   "metadata": {},
   "outputs": [
    {
     "name": "stdout",
     "output_type": "stream",
     "text": [
      "torch.Size([32, 512])\n",
      "Labels min, max: (tensor(0), tensor(14))\n",
      "Labels dtype: torch.int64\n",
      "batch.keys = dict_keys(['labels', 'input_ids', 'attention_mask']), \n",
      "tensor([    0,  1185,    32,    41,  3827,    11,  1546,  1703, 20257,     4,\n",
      "         7253,    15,     5,  1286,  1546,  1703, 16763,     6,    47,   531,\n",
      "         3094,   549,     5,  1703,    16,   128, 19085, 11219,  3934,   128,\n",
      "          495, 41501,  1215, 49244,  3934,   128,   495, 41501,  1215,  2371,\n",
      "         7629,  3934,   128,   495, 41501,  1215,  6078,   510,  3934,   128,\n",
      "          495, 41501,  1215,   791,  5174,  3934,   128,   597,  6082, 17265,\n",
      "          154,  3934,   128, 36548,   448,  3934,   128, 45647,  3934,   128,\n",
      "        44917,  3934,   128, 22117,  1215, 42450,  3509,  3934,   128,   500,\n",
      "        32387, 10680,  3934,   128, 46608,  1215,   179, 35892,  3934,   128,\n",
      "        48800,   154,  3934,   128,   846, 45706,  1215, 43511,  1396,  3934,\n",
      "           50,   128,  1000,  8108,  2652,  1398,    32,     5, 45320, 16763,\n",
      "            6,   128, 14210, 31819,  1215,  5756,   597,  3850,    35,  4285,\n",
      "         1225,   506,  2890,  5220,  2517,   506,   306,   417,  6750,   438,\n",
      "        39125,   417, 34248,  2890,  5677,   438, 26868,  1610,  3118, 33845,\n",
      "         1360,   231, 36807,   398,   417,   466, 34836,  3367,   698, 36028,\n",
      "          406,   102,  4111,   438, 40391,   102,  3761, 12010,   288, 19911,\n",
      "          398, 14141,   288, 25484,   401, 34764,   204, 38925,  3367, 32004,\n",
      "        26866, 25484,   288,   438,   466,   625,   428,  1646, 12010,   245,\n",
      "         7904,   401,   506, 32088,  3414,  3103,   417,   246,   242,  9724,\n",
      "         3204,  1749,  5208,  3145, 38504,  2518,  5352, 23219,  5479,   417,\n",
      "          134,   196,   401, 14650,   288, 12010, 30548, 28690,   306,   428,\n",
      "          246,   741,  3367,  1244,   102,  5208, 26866,  1755,  7904,  4563,\n",
      "        40027, 34682,   428, 11893,   246,   428, 40976,   102,  3414,  1922,\n",
      "          242,   306,   290,   417, 37383,   102,   306,   428,  4124,   438,\n",
      "          246, 35470,  4015,   417,   612,  7068,   176,  1942,   245, 19911,\n",
      "        20695,  4671,  4708, 19911,  5208,  6478, 36922,   506, 33845, 35470,\n",
      "         1610, 29221,   428,   398, 36431, 36028,   401,   506,   176,   102,\n",
      "         5243,   417,   406,  1978,  5606,   102, 31276,   242, 37401,   741,\n",
      "         3083,  3367, 32532,   506,  4283, 12010,   245,   102,  4550,   288,\n",
      "        16134,   246,   506,  4280,   428,   306,   242,  3305,   438,  4419,\n",
      "        14141,   506,  4283, 19911,   306,   856,  6750,   417,   466,  3706,\n",
      "         3248,  1922,  2518,  5067,   134,   102,   306,   428,  1570,  4956,\n",
      "          417,  5067,   428,  5339, 36920, 26634,   401,   242,   306,   242,\n",
      "         1366,  7589,  4791,   406,   428,  4015,   438,  4450,  4708, 36028,\n",
      "          612,  5220,   417,   466,   438,   245,  4550,  1549,  4006,   506,\n",
      "         3761,  3416,  1755,   246,   196,   364,   102,  1244,   102,  1225,\n",
      "         3209,   466,   438,  6361,   428,   406,   417,  3083,  1244,  2518,\n",
      "         1866,  5208, 17452,   401, 23219,  6668,  3209,  5379,   428,   856,\n",
      "         4124,   246,   428,   245,   438,  3103, 28503,   102,  3103,  2001,\n",
      "        25423,   176,   438,   288,  7068,  4280,   102,  3414,   438, 39617,\n",
      "         1646,  4550,  4015,   883, 30586,   102,   288,  3178,   398,   102,\n",
      "        30003,   506,   176, 23219,  5677,  1225,  3204,   246,   438,   306,\n",
      "         1610,  3416, 34836,  1646, 29936,   417,   406,   364,   176, 36807,\n",
      "         3118, 36807,  1646,  1043,   417,  3305,  1922,   428,  2001,  7309,\n",
      "        14141,   288,   428,   398,   102, 30042,  3204,   245,   242,   466,\n",
      "         1570,  3209,   155, 33492, 39259,   428, 34490,   102,  6551,   996,\n",
      "         1225,  3714,  3178,  3305,  4718, 34986,  1558,   242,  3416,  3209,\n",
      "          417,   398,  4671,  4268,  2890,   417,   245,   417,   996,  5208,\n",
      "         3272,   242,   698, 28020,   844, 10056,  4671,   428,   246,   242,\n",
      "         1570,  1755, 32976,   417,   406,  3209,  7678, 37413, 38133,   245,\n",
      "          438,   401,  3178,  1558,   102,   288,   196,  3367,  2481,   438,\n",
      "          398,     2])\n"
     ]
    }
   ],
   "source": [
    "MAX_LEN=512\n",
    "BATCH_SIZE=32\n",
    "\n",
    "train_loader = DataLoader(\n",
    "    train_dataset,\n",
    "    shuffle=True,\n",
    "    batch_size=BATCH_SIZE,\n",
    "    num_workers=0\n",
    "\n",
    ")\n",
    "\n",
    "val_loader = DataLoader(\n",
    "    val_dataset,\n",
    "    shuffle=False,\n",
    "    batch_size=BATCH_SIZE,\n",
    "    num_workers=0\n",
    "\n",
    ")\n",
    "\n",
    "test_loader = DataLoader(\n",
    "    test_dataset,\n",
    "    shuffle=False,\n",
    "    batch_size=BATCH_SIZE,\n",
    "    num_workers=0\n",
    "\n",
    ")\n",
    "\n",
    "test_data = next(iter(train_loader))\n",
    "\n",
    "print(test_data['input_ids'].shape)\n",
    "\n",
    "labels = train_dataset[\"labels\"]\n",
    "print(f\"Labels min, max: {labels.min(), labels.max()}\")\n",
    "print(f\"Labels dtype: {labels.dtype}\")\n",
    "\n",
    "for batch in train_loader:\n",
    "    print(f\"batch.keys = {batch.keys()}, \")\n",
    "    break\n",
    "\n",
    "print(train_dataset['input_ids'][0])"
   ]
  },
  {
   "cell_type": "markdown",
   "id": "1800dc26",
   "metadata": {},
   "source": [
    "for batch in dataloader:\n",
    "    input_ids = batch[\"input_ids\"].to(device)\n",
    "    attention_mask = batch[\"attention_mask\"].to(device)\n",
    "    labels = batch[\"labels\"].to(device)\n",
    "\n",
    "    outputs = model(input_ids=input_ids, attention_mask=attention_mask, labels=labels)\n",
    "    loss = outputs.loss\n",
    "    loss.backward()\n",
    "    optimizer.step()"
   ]
  },
  {
   "cell_type": "code",
   "execution_count": 20,
   "id": "68959c79",
   "metadata": {},
   "outputs": [],
   "source": [
    "def load_chkpt(model,version):\n",
    "  return model.load_state_dict(torch.load(f\"./saved_model/securityRoBERTa{version}.0.pt\",map_location=torch.device('cpu')))"
   ]
  },
  {
   "cell_type": "markdown",
   "id": "526288b9",
   "metadata": {},
   "source": [
    "import numpy as np\n",
    "\n",
    "def train_model_peft(trainer,data_loader,loss_fn,optimizer,device,scheduler,n_examples):\n",
    "  trainer.model.train()\n",
    "\n",
    "  losses = []\n",
    "  correct_predictions = 0\n",
    "\n",
    "  for d in data_loader:\n",
    "    input_ids = d['input_ids'].to(device)\n",
    "    attention_mask = d['attention_mask'].to(device)\n",
    "    labels = d[\"labels\"].to(device)\n",
    "    \n",
    "    outputs = trainer.model(input_ids,attention_mask, labels=labels)\n",
    "    logits = outputs.logits  # extract the logits tensor\n",
    "    _,preds = torch.max(logits,dim=1)\n",
    "    loss = loss_fn(logits,labels)\n",
    "\n",
    "    correct_predictions+=torch.sum(preds==labels).cpu()\n",
    "\n",
    "    losses.append(loss.item())\n",
    "\n",
    "    loss.backward()\n",
    "    nn.utils.clip_grad_norm_(trainer.model.parameters(),max_norm=1.0)\n",
    "\n",
    "    optimizer.step()\n",
    "    scheduler.step()\n",
    "\n",
    "    optimizer.zero_grad()\n",
    "\n",
    "  return correct_predictions/n_examples,np.mean(losses)"
   ]
  },
  {
   "cell_type": "markdown",
   "id": "70471911",
   "metadata": {},
   "source": [
    "def evaluation_model_peft(trainer,data_loader,loss_fn,device,n_examples):\n",
    "  trainer.model.train()\n",
    "\n",
    "  losses = []\n",
    "  correct_predictions = 0\n",
    "\n",
    "  for d in data_loader:\n",
    "    input_ids = d['input_ids'].to(device)\n",
    "    attention_mask = d['attention_mask'].to(device)\n",
    "    labels = d['label'].to(device)\n",
    "\n",
    "    outputs = trainer.model(input_ids,attention_mask, labels=labels)\n",
    "    logits = outputs.logits  # extract the logits tensor\n",
    "    _,preds = torch.max(logits,dim=1)\n",
    "    loss = loss_fn(logits,labels)\n",
    "\n",
    "    correct_predictions+=torch.sum(preds==labels).cpu()\n",
    "\n",
    "    losses.append(loss.item())\n",
    "\n",
    "  return correct_predictions/n_examples,np.mean(losses)"
   ]
  },
  {
   "cell_type": "code",
   "execution_count": 21,
   "id": "d9e6aa43",
   "metadata": {},
   "outputs": [],
   "source": [
    "from transformers import TrainerCallback\n",
    "from sklearn.metrics import accuracy_score, f1_score\n",
    "import numpy as np\n",
    "\n",
    "class MetricsCallback(TrainerCallback):\n",
    "    def __init__(self):\n",
    "        self.epoch_train_losses = []\n",
    "        self.epoch_train_accuracies = []\n",
    "\n",
    "    def on_log(self, args, state, control, logs=None, **kwargs):\n",
    "        if logs is None:\n",
    "            return\n",
    "        \n",
    "        if \"loss\" in logs:\n",
    "            self.epoch_train_losses.append(logs[\"loss\"])\n",
    "\n",
    "        if \"eval_accuracy\" in logs:\n",
    "            self.epoch_train_accuracies.append(logs[\"eval_accuracy\"])"
   ]
  },
  {
   "cell_type": "code",
   "execution_count": 22,
   "id": "87687bdc",
   "metadata": {},
   "outputs": [],
   "source": [
    "from transformers import Trainer\n",
    "import torch\n",
    "import numpy as np\n",
    "\n",
    "class CustomTrainer(Trainer):\n",
    "    def __init__(self, *args, **kwargs):\n",
    "        super().__init__(*args, **kwargs)\n",
    "        self.history = defaultdict(list)\n",
    "        self.best_val_acc = 0.0\n",
    "\n",
    "    def evaluate_and_save(self, epoch, model_version):\n",
    "        # Evaluate on validation set\n",
    "        metrics = self.evaluate()\n",
    "        print(metrics.keys())\n",
    "        val_acc = metrics[\"eval_accuracy\"]\n",
    "        val_loss = metrics[\"eval_loss\"]\n",
    "        self.history[\"val_acc\"].append(val_acc)\n",
    "        self.history[\"val_loss\"].append(val_loss)\n",
    "\n",
    "        # Save best model\n",
    "        if val_acc > self.best_val_acc:\n",
    "            self.best_val_acc = val_acc\n",
    "            self.save_model(f\"./saved_model/{model_version}{epoch+1}.0.pt\")\n",
    "            print(f\"Saved best model at epoch {epoch+1} with val_acc={val_acc:.4f}\")\n",
    "\n",
    "    def log_training_epoch(self, train_loss, train_acc):\n",
    "        self.history[\"train_loss\"].append(train_loss)\n",
    "        self.history[\"train_acc\"].append(train_acc)"
   ]
  },
  {
   "cell_type": "code",
   "execution_count": 23,
   "id": "bb9e33ad",
   "metadata": {},
   "outputs": [],
   "source": [
    "EPOCHS=3"
   ]
  },
  {
   "cell_type": "code",
   "execution_count": 24,
   "id": "d885a101",
   "metadata": {},
   "outputs": [],
   "source": [
    "optimizer_prompt_vera = torch.optim.AdamW(model.parameters(),lr=1e-5)\n",
    "total_steps = len(train_loader)*EPOCHS\n",
    "\n",
    "scheduler_prompt_vera = get_linear_schedule_with_warmup(\n",
    "    optimizer_prompt_vera,\n",
    "    num_warmup_steps= 0,\n",
    "    num_training_steps=total_steps\n",
    ")\n",
    "loss_fn = nn.CrossEntropyLoss().to(device)"
   ]
  },
  {
   "cell_type": "code",
   "execution_count": 25,
   "id": "d2b27086",
   "metadata": {},
   "outputs": [],
   "source": [
    "from transformers import TrainingArguments\n",
    "\n",
    "batch_size = 32\n",
    "gradient_accumulation_steps = 4\n",
    "\n",
    "# output dir \n",
    "model_version = \"securityRoBERTa_BasePromptVeRA_\"\n",
    "model_dir = f\"{model_version}\"\n",
    "\n",
    "training_args = TrainingArguments(\n",
    "    run_name=model_version,\n",
    "    output_dir=model_dir,\n",
    "    eval_strategy=\"epoch\",\n",
    "    learning_rate=2e-5,\n",
    "    per_device_train_batch_size=batch_size,\n",
    "    per_device_eval_batch_size=batch_size,\n",
    "    gradient_accumulation_steps=gradient_accumulation_steps,\n",
    "    num_train_epochs=1,\n",
    "    lr_scheduler_type=\"constant\",\n",
    "    logging_dir=f\"{model_dir}/logs\",\n",
    "    fp16=True,  # Enable mixed precision training\n",
    "    dataloader_num_workers=4,  # Adjust based on your CPU capabilities\n",
    "    gradient_checkpointing=True,  # Enable gradient checkpointing to save memory\n",
    "    report_to=\"none\",  # Disable reporting to avoid unnecessary overhead\n",
    "    label_names=[\"labels\"],\n",
    ")"
   ]
  },
  {
   "cell_type": "code",
   "execution_count": 26,
   "id": "b33e86fd",
   "metadata": {},
   "outputs": [
    {
     "name": "stdout",
     "output_type": "stream",
     "text": [
      "Trainable parameters: 749,583\n",
      "Total parameters: 147,376,621\n",
      "Percentage of trainable params: 0.51%\n"
     ]
    },
    {
     "data": {
      "text/plain": [
       "'\\n# configure Trainer\\ntrainer_prompt_vera = Trainer(\\n    model=model,\\n    args=training_args,\\n    train_dataset=train_dataset,\\n    eval_dataset=val_dataset,\\n    compute_metrics=compute_metrics\\n)\\n'"
      ]
     },
     "execution_count": 26,
     "metadata": {},
     "output_type": "execute_result"
    }
   ],
   "source": [
    "from sklearn.metrics import accuracy_score, f1_score, log_loss, confusion_matrix\n",
    "# The parameters after appling LoRA\n",
    "print_trainable_parameters(model)\n",
    "\n",
    "\"\"\"\n",
    "# designing computing metrics as per our use case. (F1-Macro is essential and log-loss is optional)\n",
    "def compute_metrics(p):\n",
    "    predictions, labels = p.predictions, TARGET_LIST\n",
    "    predictions = np.argmax(predictions, axis=1)\n",
    "    accuracy = accuracy_score(TARGET_LIST, predictions)\n",
    "    macro_f1 = f1_score(TARGET_LIST, predictions, average='macro')\n",
    "\n",
    "    return {\"accuracy\": accuracy, \"macro_f1\": macro_f1}\n",
    "\"\"\"\n",
    "\n",
    "def compute_metrics(p):\n",
    "    preds = np.argmax(p.predictions, axis=1)\n",
    "    labels = p.label_ids\n",
    "    acc = accuracy_score(labels, preds)\n",
    "    macro_f1 = f1_score(labels, preds, average=\"macro\")\n",
    "    return {\"accuracy\": acc, \"macro_f1\": macro_f1}\n",
    "\n",
    "model.to(device)\n",
    "\n",
    "\"\"\"\n",
    "# configure Trainer\n",
    "trainer_prompt_vera = Trainer(\n",
    "    model=model,\n",
    "    args=training_args,\n",
    "    train_dataset=train_dataset,\n",
    "    eval_dataset=val_dataset,\n",
    "    compute_metrics=compute_metrics\n",
    ")\n",
    "\"\"\""
   ]
  },
  {
   "cell_type": "code",
   "execution_count": 27,
   "id": "ebc9bd10",
   "metadata": {},
   "outputs": [],
   "source": [
    "import json"
   ]
  },
  {
   "cell_type": "code",
   "execution_count": null,
   "id": "61746313",
   "metadata": {},
   "outputs": [
    {
     "name": "stdout",
     "output_type": "stream",
     "text": [
      "\n",
      "Epoch 1/3\n"
     ]
    },
    {
     "data": {
      "text/html": [
       "\n",
       "    <div>\n",
       "      \n",
       "      <progress value='863' max='863' style='width:300px; height:20px; vertical-align: middle;'></progress>\n",
       "      [863/863 07:04, Epoch 1/1]\n",
       "    </div>\n",
       "    <table border=\"1\" class=\"dataframe\">\n",
       "  <thead>\n",
       " <tr style=\"text-align: left;\">\n",
       "      <th>Epoch</th>\n",
       "      <th>Training Loss</th>\n",
       "      <th>Validation Loss</th>\n",
       "      <th>Accuracy</th>\n",
       "      <th>Macro F1</th>\n",
       "    </tr>\n",
       "  </thead>\n",
       "  <tbody>\n",
       "    <tr>\n",
       "      <td>1</td>\n",
       "      <td>10.802300</td>\n",
       "      <td>2.675023</td>\n",
       "      <td>0.153992</td>\n",
       "      <td>0.017792</td>\n",
       "    </tr>\n",
       "  </tbody>\n",
       "</table><p>"
      ],
      "text/plain": [
       "<IPython.core.display.HTML object>"
      ]
     },
     "metadata": {},
     "output_type": "display_data"
    },
    {
     "data": {
      "text/html": [
       "\n",
       "    <div>\n",
       "      \n",
       "      <progress value='1480' max='740' style='width:300px; height:20px; vertical-align: middle;'></progress>\n",
       "      [740/740 09:08]\n",
       "    </div>\n",
       "    "
      ],
      "text/plain": [
       "<IPython.core.display.HTML object>"
      ]
     },
     "metadata": {},
     "output_type": "display_data"
    },
    {
     "name": "stdout",
     "output_type": "stream",
     "text": [
      "dict_keys(['eval_loss', 'eval_accuracy', 'eval_macro_f1', 'eval_runtime', 'eval_samples_per_second', 'eval_steps_per_second', 'epoch'])\n",
      "Saved best model at epoch 1 with val_acc=0.1540\n",
      "\n",
      "Epoch 2/3\n"
     ]
    },
    {
     "data": {
      "text/html": [
       "\n",
       "    <div>\n",
       "      \n",
       "      <progress value='863' max='863' style='width:300px; height:20px; vertical-align: middle;'></progress>\n",
       "      [863/863 07:56, Epoch 1/1]\n",
       "    </div>\n",
       "    <table border=\"1\" class=\"dataframe\">\n",
       "  <thead>\n",
       " <tr style=\"text-align: left;\">\n",
       "      <th>Epoch</th>\n",
       "      <th>Training Loss</th>\n",
       "      <th>Validation Loss</th>\n",
       "      <th>Accuracy</th>\n",
       "      <th>Macro F1</th>\n",
       "    </tr>\n",
       "  </thead>\n",
       "  <tbody>\n",
       "    <tr>\n",
       "      <td>1</td>\n",
       "      <td>10.661200</td>\n",
       "      <td>2.648941</td>\n",
       "      <td>0.153992</td>\n",
       "      <td>0.017792</td>\n",
       "    </tr>\n",
       "  </tbody>\n",
       "</table><p>"
      ],
      "text/plain": [
       "<IPython.core.display.HTML object>"
      ]
     },
     "metadata": {},
     "output_type": "display_data"
    },
    {
     "data": {
      "text/html": [
       "\n",
       "    <div>\n",
       "      \n",
       "      <progress value='1480' max='740' style='width:300px; height:20px; vertical-align: middle;'></progress>\n",
       "      [740/740 14:16]\n",
       "    </div>\n",
       "    "
      ],
      "text/plain": [
       "<IPython.core.display.HTML object>"
      ]
     },
     "metadata": {},
     "output_type": "display_data"
    },
    {
     "name": "stdout",
     "output_type": "stream",
     "text": [
      "dict_keys(['eval_loss', 'eval_accuracy', 'eval_macro_f1', 'eval_runtime', 'eval_samples_per_second', 'eval_steps_per_second', 'epoch'])\n",
      "\n",
      "Epoch 3/3\n"
     ]
    },
    {
     "data": {
      "text/html": [
       "\n",
       "    <div>\n",
       "      \n",
       "      <progress value='863' max='863' style='width:300px; height:20px; vertical-align: middle;'></progress>\n",
       "      [863/863 12:16, Epoch 1/1]\n",
       "    </div>\n",
       "    <table border=\"1\" class=\"dataframe\">\n",
       "  <thead>\n",
       " <tr style=\"text-align: left;\">\n",
       "      <th>Epoch</th>\n",
       "      <th>Training Loss</th>\n",
       "      <th>Validation Loss</th>\n",
       "      <th>Accuracy</th>\n",
       "      <th>Macro F1</th>\n",
       "    </tr>\n",
       "  </thead>\n",
       "  <tbody>\n",
       "    <tr>\n",
       "      <td>1</td>\n",
       "      <td>10.580600</td>\n",
       "      <td>2.638755</td>\n",
       "      <td>0.153992</td>\n",
       "      <td>0.017792</td>\n",
       "    </tr>\n",
       "  </tbody>\n",
       "</table><p>"
      ],
      "text/plain": [
       "<IPython.core.display.HTML object>"
      ]
     },
     "metadata": {},
     "output_type": "display_data"
    },
    {
     "data": {
      "text/html": [],
      "text/plain": [
       "<IPython.core.display.HTML object>"
      ]
     },
     "metadata": {},
     "output_type": "display_data"
    },
    {
     "name": "stdout",
     "output_type": "stream",
     "text": [
      "dict_keys(['eval_loss', 'eval_accuracy', 'eval_macro_f1', 'eval_runtime', 'eval_samples_per_second', 'eval_steps_per_second', 'epoch'])\n",
      "Training complete and history saved.\n"
     ]
    }
   ],
   "source": [
    "from collections import defaultdict\n",
    "import time\n",
    "\n",
    "metrics_callback = MetricsCallback()\n",
    "\n",
    "# New trainer\n",
    "trainer_prompt_vera = CustomTrainer(\n",
    "    model=model,\n",
    "    args=training_args,\n",
    "    train_dataset=train_dataset,\n",
    "    eval_dataset=val_dataset,\n",
    "    compute_metrics=compute_metrics,\n",
    "    callbacks=[metrics_callback]\n",
    ")\n",
    "\n",
    "start_time = time.time()\n",
    "\n",
    "for epoch in range(EPOCHS):\n",
    "    print(f\"\\nEpoch {epoch + 1}/{EPOCHS}\")\n",
    "    \n",
    "    # Train for one epoch (Trainer handles batches internally)\n",
    "    trainer_prompt_vera.train()\n",
    "\n",
    "    trainer_prompt_vera.log_training_epoch(metrics_callback.epoch_train_losses[-1], metrics_callback.epoch_train_accuracies[-1])\n",
    "\n",
    "    # Evaluate and potentially save best model\n",
    "    trainer_prompt_vera.evaluate_and_save(\n",
    "        epoch,\n",
    "        model_version\n",
    "    )\n",
    "\n",
    "history_roberta_base_prompt_vera = trainer_prompt_vera.history\n",
    "\n",
    "# Save full history and training time\n",
    "end_time = time.time()\n",
    "history_roberta_base_prompt_vera[\"training_time\"].append(end_time - start_time)\n",
    "\n",
    "torch.save(history_roberta_base_prompt_vera, \"./saved_model/history_roberta_base_prompt_vera.pt\")\n",
    "print(\"Training complete and history saved.\")\n"
   ]
  },
  {
   "cell_type": "markdown",
   "id": "6233da18",
   "metadata": {},
   "source": [
    "%%time\n",
    "history_roberta_base_prompt_vera = defaultdict(list)\n",
    "best_accuracy_roberta_base_prompt_vera=0\n",
    "print(\"1\")\n",
    "\n",
    "# Record start time\n",
    "start_time = time.time()\n",
    "\n",
    "for epoch in tqdm(range(EPOCHS)):\n",
    "  print(f\"Epoch {epoch+1}/{EPOCHS}\")\n",
    "  train_acc_roberta_base_prompt_vera,train_loss_roberta_base_prompt_vera = train_model_peft(trainer_prompt_vera,train_loader,loss_fn,optimizer_prompt_vera,device,scheduler_prompt_vera,len(train_set))\n",
    "  val_acc_roberta_base_prompt_vera,val_loss_roberta_base_prompt_vera = evaluation_model_peft(trainer_prompt_vera,val_loader,loss_fn,device,len(val_set))\n",
    "  history_roberta_base_prompt_vera['train_acc'].append(train_acc_roberta_base_prompt_vera)\n",
    "  history_roberta_base_prompt_vera['train_loss'].append(train_loss_roberta_base_prompt_vera)\n",
    "  history_roberta_base_prompt_vera['val_acc'].append(val_acc_roberta_base_prompt_vera)\n",
    "  history_roberta_base_prompt_vera['val_loss'].append(val_loss_roberta_base_prompt_vera)\n",
    "  print(f\"Train Loss {train_loss_roberta_base_prompt_vera} | Validation Loss {val_loss_roberta_base_prompt_vera} | Training Accuracy {train_acc_roberta_base_prompt_vera} | Validation Accuracy {val_acc_roberta_base_prompt_vera}\")\n",
    "\n",
    "  if val_acc_roberta_base_prompt_vera>best_accuracy_roberta_base_prompt_vera:\n",
    "    trainer_prompt_vera.save_model(f\"./saved_model/{model_version}{epoch+1}.0.pt\")\n",
    "    best_accuracy_roberta_base_prompt_vera = val_acc_roberta_base_prompt_vera\n",
    "\n",
    "# Record end time\n",
    "end_time = time.time()\n",
    "\n",
    "# Calculate training time\n",
    "history_roberta_base_prompt_vera['training_time'].append(end_time - start_time)\n",
    "\n",
    "# Save\n",
    "torch.save(history_roberta_base_prompt_vera, \"./saved_model/history_roberta_base_prompt_vera.txt\")"
   ]
  },
  {
   "cell_type": "code",
   "execution_count": 29,
   "id": "6381f8e3",
   "metadata": {},
   "outputs": [
    {
     "name": "stdout",
     "output_type": "stream",
     "text": [
      "<class 'collections.defaultdict'>\n",
      "<class 'float'>\n"
     ]
    }
   ],
   "source": [
    "# Load\n",
    "history_roberta_base_prompt_vera = torch.load(\"./saved_model/history_roberta_base_prompt_vera.pt\", weights_only=False)\n",
    "\n",
    "# Still a defaultdict with tensors\n",
    "print(type(history_roberta_base_prompt_vera))  # defaultdict\n",
    "print(type(history_roberta_base_prompt_vera['train_acc'][0]))  # torch.Tensor"
   ]
  },
  {
   "cell_type": "code",
   "execution_count": 30,
   "id": "33331f85",
   "metadata": {},
   "outputs": [
    {
     "name": "stdout",
     "output_type": "stream",
     "text": [
      "[10.8023, 10.6612, 10.5806]\n"
     ]
    },
    {
     "data": {
      "image/png": "[encoded data removed]",
      "text/plain": [
       "<Figure size 1000x600 with 1 Axes>"
      ]
     },
     "metadata": {},
     "output_type": "display_data"
    }
   ],
   "source": [
    "import matplotlib.pyplot as plt\n",
    "import seaborn as sns\n",
    "\n",
    "epochs = range(1, EPOCHS+1)\n",
    "train_losses = history_roberta_base_prompt_vera['train_loss']\n",
    "print(train_losses)\n",
    "val_losses = history_roberta_base_prompt_vera['val_loss']\n",
    "\n",
    "plt.figure(figsize=(10, 6))\n",
    "\n",
    "sns.lineplot(x=epochs, y=train_losses, label='Training Loss',marker=\"o\")\n",
    "sns.lineplot(x=epochs, y=val_losses, label='Validation Loss',marker=\"o\")\n",
    "\n",
    "plt.title('RoBERTa Base VeRA Prompt Training and Validation Losses')\n",
    "plt.xlabel('Epochs')\n",
    "plt.ylabel('Loss')\n",
    "plt.legend()\n",
    "plt.savefig('./roberta-base-prompt-vera-training-validation-losses.png',dpi=780)\n",
    "plt.show()"
   ]
  },
  {
   "cell_type": "code",
   "execution_count": 32,
   "id": "e1febc87",
   "metadata": {},
   "outputs": [
    {
     "data": {
      "image/png": "[encoded data removed]",
      "text/plain": [
       "<Figure size 1000x600 with 1 Axes>"
      ]
     },
     "metadata": {},
     "output_type": "display_data"
    }
   ],
   "source": [
    "epochs = range(1, EPOCHS+1)\n",
    "train_accuracies = history_roberta_base_prompt_vera['train_acc']\n",
    "val_accuracies = history_roberta_base_prompt_vera['val_acc']\n",
    "\n",
    "plt.figure(figsize=(10, 6))\n",
    "\n",
    "sns.lineplot(x=epochs, y=train_accuracies, label='Training accuracy',marker='o')\n",
    "sns.lineplot(x=epochs, y=val_accuracies, label='Validation accuracy',marker='o')\n",
    "\n",
    "plt.title('RoBERTa Base VeRA Prompt Training and Validation Accuracies')\n",
    "plt.xlabel('Epochs')\n",
    "plt.ylabel('Accuracy')\n",
    "plt.legend()\n",
    "plt.savefig('./roberta-base-prompt-vera-training-validation-accuracies.png',dpi=780)\n",
    "plt.show()"
   ]
  },
  {
   "cell_type": "code",
   "execution_count": 33,
   "id": "3d803d01",
   "metadata": {},
   "outputs": [],
   "source": [
    "from transformers.trainer_utils import PredictionOutput\n",
    "from sklearn.metrics import confusion_matrix,classification_report\n",
    "\n",
    "def get_predictions(trainer, test_dataset):\n",
    "    # Runs prediction\n",
    "    output: PredictionOutput = trainer.predict(test_dataset)\n",
    "\n",
    "    # Get raw logits and labels\n",
    "    logits = torch.tensor(output.predictions)\n",
    "    probs = F.softmax(logits, dim=1)\n",
    "    preds = torch.argmax(probs, dim=1)\n",
    "    labels = torch.tensor(output.label_ids)\n",
    "\n",
    "    return preds, probs, labels"
   ]
  },
  {
   "cell_type": "code",
   "execution_count": 34,
   "id": "3accecc7",
   "metadata": {},
   "outputs": [],
   "source": [
    "preds, probs, labels = get_predictions(trainer_prompt_vera, test_dataset)"
   ]
  },
  {
   "cell_type": "code",
   "execution_count": 35,
   "id": "e4510d67",
   "metadata": {},
   "outputs": [],
   "source": [
    "torch.save(preds,\"./saved_model/roberta_base_prompt_vera_predictions.pt\")\n",
    "torch.save(probs,\"./saved_model/roberta_base_prompt_vera_predictions_probs.pt\")\n",
    "torch.save(labels,\"./saved_model/roberta_base_prompt_vera_real_values.pt\") "
   ]
  },
  {
   "cell_type": "code",
   "execution_count": 36,
   "id": "7ee6873c",
   "metadata": {},
   "outputs": [],
   "source": [
    "target_names = ['Backdoor', 'DDoS_HTTP', 'DDoS_ICMP', 'DDoS_TCP', 'DDoS_UDP',\n",
    "       'Fingerprinting', 'MITM', 'Normal', 'Password', 'Port_Scanning',\n",
    "       'Ransomware', 'SQL_injection', 'Uploading', 'Vulnerability_scanner',\n",
    "       'XSS']"
   ]
  },
  {
   "cell_type": "code",
   "execution_count": 37,
   "id": "45f6b652",
   "metadata": {},
   "outputs": [],
   "source": [
    "s = set()"
   ]
  },
  {
   "cell_type": "code",
   "execution_count": 38,
   "id": "31a0e5fd",
   "metadata": {},
   "outputs": [],
   "source": [
    "for elt in preds:\n",
    "  s.add(elt.item())"
   ]
  },
  {
   "cell_type": "code",
   "execution_count": 39,
   "id": "4b6825de",
   "metadata": {},
   "outputs": [
    {
     "data": {
      "text/plain": [
       "['Normal']"
      ]
     },
     "execution_count": 39,
     "metadata": {},
     "output_type": "execute_result"
    }
   ],
   "source": [
    "actual_considered_classes = [TARGET_LIST[i] for i in s]\n",
    "actual_considered_classes"
   ]
  },
  {
   "cell_type": "code",
   "execution_count": 40,
   "id": "8e49c51e",
   "metadata": {},
   "outputs": [
    {
     "data": {
      "text/plain": [
       "Attack_type\n",
       "Normal                   24301\n",
       "DDoS_UDP                 14498\n",
       "DDoS_ICMP                14090\n",
       "Ransomware               10925\n",
       "DDoS_HTTP                10561\n",
       "SQL_injection            10311\n",
       "Uploading                10269\n",
       "DDoS_TCP                 10247\n",
       "Backdoor                 10195\n",
       "Vulnerability_scanner    10076\n",
       "Port_Scanning            10071\n",
       "XSS                      10052\n",
       "Password                  9989\n",
       "MITM                      1214\n",
       "Fingerprinting            1001\n",
       "Name: count, dtype: int64"
      ]
     },
     "execution_count": 40,
     "metadata": {},
     "output_type": "execute_result"
    }
   ],
   "source": [
    "data['Attack_type'].value_counts()"
   ]
  },
  {
   "cell_type": "code",
   "execution_count": 41,
   "id": "d2e02f4e",
   "metadata": {},
   "outputs": [],
   "source": [
    "def show_confusion_matrix(confusion_matrix):\n",
    "\n",
    "    plt.figure(figsize=(10, 8))\n",
    "    sns.heatmap(confusion_matrix, annot=True, cmap='Blues', fmt='d')\n",
    "    plt.xticks(rotation=90)\n",
    "    plt.title(\"RoBERTa Base VeRA Prompt Confusion Matrix\")\n",
    "    plt.ylabel('Real threats')\n",
    "    plt.xlabel('Predicted threats')\n",
    "    plt.savefig('./roberta-base-prompt-vera-confusion-matrix.png',dpi=780)\n",
    "    plt.show()"
   ]
  },
  {
   "cell_type": "code",
   "execution_count": 42,
   "id": "41d11d7f",
   "metadata": {},
   "outputs": [
    {
     "name": "stdout",
     "output_type": "stream",
     "text": [
      "                       precision    recall  f1-score   support\n",
      "\n",
      "             Backdoor       0.00      0.00      0.00      1529\n",
      "            DDoS_HTTP       0.00      0.00      0.00      1584\n",
      "            DDoS_ICMP       0.00      0.00      0.00      2114\n",
      "             DDoS_TCP       0.00      0.00      0.00      1537\n",
      "             DDoS_UDP       0.00      0.00      0.00      2175\n",
      "       Fingerprinting       0.00      0.00      0.00       150\n",
      "                 MITM       0.00      0.00      0.00       182\n",
      "               Normal       0.15      1.00      0.27      3645\n",
      "             Password       0.00      0.00      0.00      1498\n",
      "        Port_Scanning       0.00      0.00      0.00      1511\n",
      "           Ransomware       0.00      0.00      0.00      1639\n",
      "        SQL_injection       0.00      0.00      0.00      1547\n",
      "            Uploading       0.00      0.00      0.00      1540\n",
      "Vulnerability_scanner       0.00      0.00      0.00      1511\n",
      "                  XSS       0.00      0.00      0.00      1508\n",
      "\n",
      "             accuracy                           0.15     23670\n",
      "            macro avg       0.01      0.07      0.02     23670\n",
      "         weighted avg       0.02      0.15      0.04     23670\n",
      "\n"
     ]
    }
   ],
   "source": [
    "print(classification_report(labels,preds,target_names=TARGET_LIST))"
   ]
  },
  {
   "cell_type": "code",
   "execution_count": 43,
   "id": "6ab68a7d",
   "metadata": {},
   "outputs": [
    {
     "data": {
      "image/png": "[encoded data removed]",
      "text/plain": [
       "<Figure size 1000x800 with 2 Axes>"
      ]
     },
     "metadata": {},
     "output_type": "display_data"
    }
   ],
   "source": [
    "cm = confusion_matrix(labels,preds)\n",
    "df_cm = pd.DataFrame(cm,index=TARGET_LIST,columns=TARGET_LIST)\n",
    "show_confusion_matrix(df_cm)"
   ]
  },
  {
   "cell_type": "code",
   "execution_count": 44,
   "id": "e0881076",
   "metadata": {},
   "outputs": [],
   "source": [
    "y_true = labels.cpu().numpy()\n",
    "y_score = preds.cpu().numpy()"
   ]
  }
 ],
 "metadata": {
  "kernelspec": {
   "display_name": "test_env",
   "language": "python",
   "name": "python3"
  },
  "language_info": {
   "codemirror_mode": {
    "name": "ipython",
    "version": 3
   },
   "file_extension": ".py",
   "mimetype": "text/x-python",
   "name": "python",
   "nbconvert_exporter": "python",
   "pygments_lexer": "ipython3",
   "version": "3.12.7"
  }
 },
 "nbformat": 4,
 "nbformat_minor": 5
}
